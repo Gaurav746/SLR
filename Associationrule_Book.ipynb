{
 "cells": [
  {
   "cell_type": "markdown",
   "id": "13b70342",
   "metadata": {},
   "source": [
    "# Import libraries "
   ]
  },
  {
   "cell_type": "code",
   "execution_count": 4,
   "id": "42258b08",
   "metadata": {
    "ExecuteTime": {
     "end_time": "2021-09-17T09:03:29.769364Z",
     "start_time": "2021-09-17T09:03:13.688842Z"
    }
   },
   "outputs": [],
   "source": [
    "import pandas as pd\n",
    "from mlxtend.frequent_patterns import apriori,association_rules\n",
    "from mlxtend.preprocessing import TransactionEncoder\n",
    "import matplotlib.pyplot as plt"
   ]
  },
  {
   "cell_type": "markdown",
   "id": "ca713e61",
   "metadata": {},
   "source": [
    "# Reading CSV file"
   ]
  },
  {
   "cell_type": "code",
   "execution_count": null,
   "id": "8c05d32f",
   "metadata": {
    "ExecuteTime": {
     "end_time": "2021-09-17T09:02:25.609052Z",
     "start_time": "2021-09-17T09:02:13.750Z"
    }
   },
   "outputs": [],
   "source": [
    "book = pd.read_csv(\"book.csv\")\n",
    "book.head()"
   ]
  },
  {
   "cell_type": "code",
   "execution_count": null,
   "id": "f73c7332",
   "metadata": {
    "ExecuteTime": {
     "end_time": "2021-09-17T09:02:25.611052Z",
     "start_time": "2021-09-17T09:02:13.754Z"
    }
   },
   "outputs": [],
   "source": [
    "book.isna().sum()"
   ]
  },
  {
   "cell_type": "code",
   "execution_count": null,
   "id": "e9ab9596",
   "metadata": {
    "ExecuteTime": {
     "end_time": "2021-09-17T09:02:25.614052Z",
     "start_time": "2021-09-17T09:02:13.758Z"
    }
   },
   "outputs": [],
   "source": [
    "book.shape"
   ]
  },
  {
   "cell_type": "markdown",
   "id": "5300bceb",
   "metadata": {},
   "source": [
    "# Apriori Algorithm "
   ]
  },
  {
   "cell_type": "markdown",
   "id": "21115e73",
   "metadata": {},
   "source": [
    "### apriori algorithm with min support = 0.05 and lenghth of the itemsets = 3"
   ]
  },
  {
   "cell_type": "code",
   "execution_count": null,
   "id": "11ba5597",
   "metadata": {
    "ExecuteTime": {
     "end_time": "2021-09-17T09:02:25.616052Z",
     "start_time": "2021-09-17T09:02:13.763Z"
    }
   },
   "outputs": [],
   "source": [
    "frequent_itemsets = apriori(book, min_support=0.05, max_len= 3,  use_colnames=True)\n",
    "frequent_itemsets"
   ]
  },
  {
   "cell_type": "markdown",
   "id": "e8a426c3",
   "metadata": {},
   "source": [
    "#### We got 76 combination of itemsets with support = 0.05 and item lenghth = 3"
   ]
  },
  {
   "cell_type": "markdown",
   "id": "a06d7e27",
   "metadata": {},
   "source": [
    "# Association rules "
   ]
  },
  {
   "cell_type": "markdown",
   "id": "46e43b43",
   "metadata": {
    "ExecuteTime": {
     "end_time": "2021-08-22T17:05:26.823447Z",
     "start_time": "2021-08-22T17:05:26.819449Z"
    }
   },
   "source": [
    "#### Creating rules wirth confidence min threshold = 0.5"
   ]
  },
  {
   "cell_type": "code",
   "execution_count": null,
   "id": "c7e0693b",
   "metadata": {
    "ExecuteTime": {
     "end_time": "2021-09-17T09:02:25.618053Z",
     "start_time": "2021-09-17T09:02:13.768Z"
    }
   },
   "outputs": [],
   "source": [
    "rules = association_rules(frequent_itemsets, metric=\"confidence\", min_threshold=0.5)\n",
    "rules"
   ]
  },
  {
   "cell_type": "markdown",
   "id": "e826d113",
   "metadata": {},
   "source": [
    "#### with confidence threshold value 0.5 we have got 124 rules"
   ]
  },
  {
   "cell_type": "code",
   "execution_count": null,
   "id": "7a791819",
   "metadata": {
    "ExecuteTime": {
     "end_time": "2021-09-17T09:02:25.621053Z",
     "start_time": "2021-09-17T09:02:13.774Z"
    }
   },
   "outputs": [],
   "source": [
    "rules.sort_values('confidence',ascending = False)[0:10]"
   ]
  },
  {
   "cell_type": "code",
   "execution_count": null,
   "id": "1ad8633b",
   "metadata": {
    "ExecuteTime": {
     "end_time": "2021-09-17T09:02:25.622053Z",
     "start_time": "2021-09-17T09:02:13.778Z"
    },
    "scrolled": true
   },
   "outputs": [],
   "source": [
    "rules[rules.confidence>0.9]"
   ]
  },
  {
   "cell_type": "code",
   "execution_count": null,
   "id": "1f1c8e0e",
   "metadata": {
    "ExecuteTime": {
     "end_time": "2021-09-17T09:02:25.625053Z",
     "start_time": "2021-09-17T09:02:13.781Z"
    },
    "scrolled": false
   },
   "outputs": [],
   "source": [
    "fig, ax=plt.subplots(figsize=(6,4))\n",
    "rules['antecedents'].value_counts().sort_values(ascending=False).head(10).plot(kind='bar')\n",
    "plt.ylabel('Number of purchases')\n",
    "plt.xlabel('Books')\n",
    "plt.title('Best sellers books')"
   ]
  },
  {
   "cell_type": "code",
   "execution_count": null,
   "id": "e3833021",
   "metadata": {
    "ExecuteTime": {
     "end_time": "2021-09-17T09:02:25.626053Z",
     "start_time": "2021-09-17T09:02:13.784Z"
    }
   },
   "outputs": [],
   "source": [
    "fig, ax=plt.subplots(figsize=(6,4))\n",
    "rules['consequents'].value_counts().sort_values(ascending=False).head(10).plot(kind='bar')\n",
    "plt.ylabel('Number of purchases')\n",
    "plt.xlabel('Books')\n",
    "plt.title('Best sellers books')"
   ]
  },
  {
   "cell_type": "markdown",
   "id": "26e1710d",
   "metadata": {},
   "source": [
    "## From the above graph it is clear that cookbooks are most populer ones"
   ]
  },
  {
   "cell_type": "code",
   "execution_count": null,
   "id": "d1c27d6d",
   "metadata": {
    "ExecuteTime": {
     "end_time": "2021-09-17T09:02:25.628053Z",
     "start_time": "2021-09-17T09:02:13.791Z"
    }
   },
   "outputs": [],
   "source": [
    "plt.scatter(rules.support, rules.confidence,   alpha=0.5, marker=\"*\")\n",
    "plt.xlabel('support')\n",
    "plt.ylabel('confidence') \n",
    "plt.title('Association rules')\n",
    "plt.show()"
   ]
  },
  {
   "cell_type": "markdown",
   "id": "38e5d5f6",
   "metadata": {},
   "source": [
    "### Apriori algorithm with min support = 0.1 and lenghth of the itemsets = 2"
   ]
  },
  {
   "cell_type": "code",
   "execution_count": null,
   "id": "e50368e5",
   "metadata": {
    "ExecuteTime": {
     "end_time": "2021-09-17T09:02:25.632054Z",
     "start_time": "2021-09-17T09:02:13.795Z"
    }
   },
   "outputs": [],
   "source": [
    "frequent_itemsets_1 = apriori(book, min_support=0.1, max_len= 2,  use_colnames=True)\n",
    "frequent_itemsets_1.head(10)"
   ]
  },
  {
   "cell_type": "markdown",
   "id": "fb98c6de",
   "metadata": {},
   "source": [
    "#### We got 28 combination of itemsets with support = 0.1 and item lenghth = 2"
   ]
  },
  {
   "cell_type": "markdown",
   "id": "3d567c5b",
   "metadata": {},
   "source": [
    "# Association rules "
   ]
  },
  {
   "cell_type": "markdown",
   "id": "750e0573",
   "metadata": {},
   "source": [
    "#### Creating rules wirth confidence min threshold = 0.7"
   ]
  },
  {
   "cell_type": "code",
   "execution_count": null,
   "id": "989cc3d4",
   "metadata": {
    "ExecuteTime": {
     "end_time": "2021-09-17T09:02:25.634053Z",
     "start_time": "2021-09-17T09:02:13.800Z"
    }
   },
   "outputs": [],
   "source": [
    "rules_1 = association_rules(frequent_itemsets, metric=\"confidence\", min_threshold=0.7)\n",
    "rules_1.head(10)"
   ]
  },
  {
   "cell_type": "markdown",
   "id": "a753c907",
   "metadata": {},
   "source": [
    "#### with confidence threshold value 0.7 we have got 42 rules"
   ]
  },
  {
   "cell_type": "code",
   "execution_count": null,
   "id": "45f3d163",
   "metadata": {
    "ExecuteTime": {
     "end_time": "2021-09-17T09:02:25.637054Z",
     "start_time": "2021-09-17T09:02:13.805Z"
    }
   },
   "outputs": [],
   "source": [
    "rules_1.sort_values('confidence',ascending = False)[0:10]"
   ]
  },
  {
   "cell_type": "code",
   "execution_count": null,
   "id": "39538248",
   "metadata": {
    "ExecuteTime": {
     "end_time": "2021-09-17T09:02:25.641054Z",
     "start_time": "2021-09-17T09:02:13.809Z"
    }
   },
   "outputs": [],
   "source": [
    "plt.scatter(rules_1.support, rules_1.confidence,   alpha=0.5, marker=\"*\")\n",
    "plt.xlabel('support')\n",
    "plt.ylabel('confidence') \n",
    "plt.title('Association rules')\n",
    "plt.show()"
   ]
  },
  {
   "cell_type": "code",
   "execution_count": null,
   "id": "4b0a8fde",
   "metadata": {
    "ExecuteTime": {
     "end_time": "2021-09-17T09:02:25.642053Z",
     "start_time": "2021-09-17T09:02:13.812Z"
    },
    "scrolled": false
   },
   "outputs": [],
   "source": [
    "fig, ax=plt.subplots(figsize=(6,4))\n",
    "rules_1['consequents'].value_counts().sort_values(ascending=False).head(10).plot(kind='bar')\n",
    "plt.ylabel('Number of purchases')\n",
    "plt.xlabel('Books')\n",
    "plt.title('Best sellers books')"
   ]
  },
  {
   "cell_type": "code",
   "execution_count": null,
   "id": "27ef78a1",
   "metadata": {
    "ExecuteTime": {
     "end_time": "2021-09-17T09:02:25.643055Z",
     "start_time": "2021-09-17T09:02:13.816Z"
    }
   },
   "outputs": [],
   "source": [
    "fig, ax=plt.subplots(figsize=(6,4))\n",
    "rules_1['antecedents'].value_counts().sort_values(ascending=False).head(10).plot(kind='bar')\n",
    "plt.ylabel('Number of purchases')\n",
    "plt.xlabel('Books')\n",
    "plt.title('Best sellers books')"
   ]
  }
 ],
 "metadata": {
  "kernelspec": {
   "display_name": "Python 3",
   "language": "python",
   "name": "python3"
  },
  "language_info": {
   "codemirror_mode": {
    "name": "ipython",
    "version": 3
   },
   "file_extension": ".py",
   "mimetype": "text/x-python",
   "name": "python",
   "nbconvert_exporter": "python",
   "pygments_lexer": "ipython3",
   "version": "3.8.8"
  }
 },
 "nbformat": 4,
 "nbformat_minor": 5
}
